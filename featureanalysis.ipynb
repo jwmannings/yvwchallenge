{
 "cells": [
  {
   "cell_type": "markdown",
   "metadata": {
    "collapsed": true
   },
   "source": [
    "# Predicting Pipe Failure Conditions with Decision Trees and Random Forests"
   ]
  },
  {
   "cell_type": "code",
   "execution_count": 131,
   "metadata": {
    "collapsed": false
   },
   "outputs": [
    {
     "data": {
      "text/plain": [
       "'\\n- pymssql\\n- pandas\\n- json\\n\\n\\n'"
      ]
     },
     "execution_count": 131,
     "metadata": {},
     "output_type": "execute_result"
    }
   ],
   "source": [
    "#dependancies list\n",
    "'''\n",
    "- pymssql\n",
    "- pandas\n",
    "- json\n",
    "\n",
    "\n",
    "'''"
   ]
  },
  {
   "cell_type": "markdown",
   "metadata": {
    "collapsed": true
   },
   "source": [
    "## Importing Data from SQL"
   ]
  },
  {
   "cell_type": "code",
   "execution_count": 132,
   "metadata": {
    "collapsed": false,
    "scrolled": true
   },
   "outputs": [
    {
     "data": {
      "text/html": [
       "<div>\n",
       "<table border=\"1\" class=\"dataframe\">\n",
       "  <thead>\n",
       "    <tr style=\"text-align: right;\">\n",
       "      <th></th>\n",
       "      <th>asset id</th>\n",
       "      <th>count</th>\n",
       "      <th>event time</th>\n",
       "      <th>event date</th>\n",
       "      <th>class structure</th>\n",
       "      <th>class structure id</th>\n",
       "      <th>material</th>\n",
       "      <th>nominal size (mm)</th>\n",
       "      <th>soil class</th>\n",
       "      <th>soil description</th>\n",
       "      <th>...</th>\n",
       "      <th>failure description</th>\n",
       "      <th>job plan</th>\n",
       "      <th>job plan number</th>\n",
       "      <th>service location id</th>\n",
       "      <th>formatted address</th>\n",
       "      <th>city</th>\n",
       "      <th>post code</th>\n",
       "      <th>latitude</th>\n",
       "      <th>longitude</th>\n",
       "      <th>months_break</th>\n",
       "    </tr>\n",
       "  </thead>\n",
       "  <tbody>\n",
       "    <tr>\n",
       "      <th>0</th>\n",
       "      <td>2134909</td>\n",
       "      <td>1</td>\n",
       "      <td>1:26:00 AM</td>\n",
       "      <td>11/7/2011</td>\n",
       "      <td>Repair Burst Water Main</td>\n",
       "      <td>WRBRST</td>\n",
       "      <td>CAST IRON CEMENT LINED</td>\n",
       "      <td>100</td>\n",
       "      <td>EX</td>\n",
       "      <td>Moderate shrink/swell potential.</td>\n",
       "      <td>...</td>\n",
       "      <td>UNKN</td>\n",
       "      <td>None</td>\n",
       "      <td>None</td>\n",
       "      <td>1271238</td>\n",
       "      <td>1 BAROSSA AVENUE VERMONT SOUTH 3133</td>\n",
       "      <td>VERMONT SOUTH</td>\n",
       "      <td>3133</td>\n",
       "      <td>-37.85526433</td>\n",
       "      <td>145.19084730</td>\n",
       "      <td>152</td>\n",
       "    </tr>\n",
       "    <tr>\n",
       "      <th>1</th>\n",
       "      <td>2134910</td>\n",
       "      <td>1</td>\n",
       "      <td>10:31:00 AM</td>\n",
       "      <td>1/18/2010</td>\n",
       "      <td>Repair Burst Water Main</td>\n",
       "      <td>WRBRST</td>\n",
       "      <td>CAST IRON CEMENT LINED</td>\n",
       "      <td>100</td>\n",
       "      <td>EX</td>\n",
       "      <td>Moderate shrink/swell potential.</td>\n",
       "      <td>...</td>\n",
       "      <td>UNKN</td>\n",
       "      <td>None</td>\n",
       "      <td>None</td>\n",
       "      <td>1271236</td>\n",
       "      <td>5 BAROSSA AVENUE VERMONT SOUTH 3133</td>\n",
       "      <td>VERMONT SOUTH</td>\n",
       "      <td>3133</td>\n",
       "      <td>-37.85532502</td>\n",
       "      <td>145.19127780</td>\n",
       "      <td>145</td>\n",
       "    </tr>\n",
       "    <tr>\n",
       "      <th>2</th>\n",
       "      <td>2134913</td>\n",
       "      <td>1</td>\n",
       "      <td>4:12:00 PM</td>\n",
       "      <td>3/16/2006</td>\n",
       "      <td>Repair Burst Water Main</td>\n",
       "      <td>WRBRST</td>\n",
       "      <td>UPVC-THICK WALLED PRESSURE PIPE(INCL BLUE BRUTE)</td>\n",
       "      <td>100</td>\n",
       "      <td>EX</td>\n",
       "      <td>Moderate shrink/swell potential.</td>\n",
       "      <td>...</td>\n",
       "      <td>UNKN</td>\n",
       "      <td>None</td>\n",
       "      <td>None</td>\n",
       "      <td>1523784</td>\n",
       "      <td>13 ADELE STREET VERMONT 3133</td>\n",
       "      <td>VERMONT</td>\n",
       "      <td>3133</td>\n",
       "      <td>-37.83213171</td>\n",
       "      <td>145.20622920</td>\n",
       "      <td>19</td>\n",
       "    </tr>\n",
       "    <tr>\n",
       "      <th>3</th>\n",
       "      <td>2134915</td>\n",
       "      <td>1</td>\n",
       "      <td>11:54:00 AM</td>\n",
       "      <td>11/13/1998</td>\n",
       "      <td>Repair Burst Water Main</td>\n",
       "      <td>WRBRST</td>\n",
       "      <td>CAST IRON CEMENT LINED</td>\n",
       "      <td>100</td>\n",
       "      <td>EX</td>\n",
       "      <td>Moderate shrink/swell potential.</td>\n",
       "      <td>...</td>\n",
       "      <td>UNKN</td>\n",
       "      <td>None</td>\n",
       "      <td>None</td>\n",
       "      <td>1265242</td>\n",
       "      <td>8 CALDWELL ROAD VERMONT 3133</td>\n",
       "      <td>VERMONT</td>\n",
       "      <td>3133</td>\n",
       "      <td>-37.83383109</td>\n",
       "      <td>145.21071050</td>\n",
       "      <td>157</td>\n",
       "    </tr>\n",
       "    <tr>\n",
       "      <th>4</th>\n",
       "      <td>2134918</td>\n",
       "      <td>1</td>\n",
       "      <td>1:00:00 AM</td>\n",
       "      <td>2/16/1997</td>\n",
       "      <td>Repair Burst Water Main</td>\n",
       "      <td>WRBRST</td>\n",
       "      <td>CAST IRON CEMENT LINED</td>\n",
       "      <td>100</td>\n",
       "      <td>EX</td>\n",
       "      <td>Moderate shrink/swell potential.</td>\n",
       "      <td>...</td>\n",
       "      <td>UNKN</td>\n",
       "      <td>None</td>\n",
       "      <td>None</td>\n",
       "      <td>1265573</td>\n",
       "      <td>2 AUBREY STREET VERMONT 3133</td>\n",
       "      <td>VERMONT</td>\n",
       "      <td>3133</td>\n",
       "      <td>-37.83534315</td>\n",
       "      <td>145.20643560</td>\n",
       "      <td>149</td>\n",
       "    </tr>\n",
       "  </tbody>\n",
       "</table>\n",
       "<p>5 rows × 42 columns</p>\n",
       "</div>"
      ],
      "text/plain": [
       "  asset id  count   event time  event date          class structure  \\\n",
       "0  2134909      1   1:26:00 AM   11/7/2011  Repair Burst Water Main   \n",
       "1  2134910      1  10:31:00 AM   1/18/2010  Repair Burst Water Main   \n",
       "2  2134913      1   4:12:00 PM   3/16/2006  Repair Burst Water Main   \n",
       "3  2134915      1  11:54:00 AM  11/13/1998  Repair Burst Water Main   \n",
       "4  2134918      1   1:00:00 AM   2/16/1997  Repair Burst Water Main   \n",
       "\n",
       "  class structure id                                          material  \\\n",
       "0             WRBRST                            CAST IRON CEMENT LINED   \n",
       "1             WRBRST                            CAST IRON CEMENT LINED   \n",
       "2             WRBRST  UPVC-THICK WALLED PRESSURE PIPE(INCL BLUE BRUTE)   \n",
       "3             WRBRST                            CAST IRON CEMENT LINED   \n",
       "4             WRBRST                            CAST IRON CEMENT LINED   \n",
       "\n",
       "  nominal size (mm) soil class                  soil description     ...       \\\n",
       "0               100         EX  Moderate shrink/swell potential.     ...        \n",
       "1               100         EX  Moderate shrink/swell potential.     ...        \n",
       "2               100         EX  Moderate shrink/swell potential.     ...        \n",
       "3               100         EX  Moderate shrink/swell potential.     ...        \n",
       "4               100         EX  Moderate shrink/swell potential.     ...        \n",
       "\n",
       "  failure description job plan job plan number service location id  \\\n",
       "0                UNKN     None            None             1271238   \n",
       "1                UNKN     None            None             1271236   \n",
       "2                UNKN     None            None             1523784   \n",
       "3                UNKN     None            None             1265242   \n",
       "4                UNKN     None            None             1265573   \n",
       "\n",
       "                     formatted address           city post code      latitude  \\\n",
       "0  1 BAROSSA AVENUE VERMONT SOUTH 3133  VERMONT SOUTH      3133  -37.85526433   \n",
       "1  5 BAROSSA AVENUE VERMONT SOUTH 3133  VERMONT SOUTH      3133  -37.85532502   \n",
       "2         13 ADELE STREET VERMONT 3133        VERMONT      3133  -37.83213171   \n",
       "3         8 CALDWELL ROAD VERMONT 3133        VERMONT      3133  -37.83383109   \n",
       "4         2 AUBREY STREET VERMONT 3133        VERMONT      3133  -37.83534315   \n",
       "\n",
       "      longitude months_break  \n",
       "0  145.19084730          152  \n",
       "1  145.19127780          145  \n",
       "2  145.20622920           19  \n",
       "3  145.21071050          157  \n",
       "4  145.20643560          149  \n",
       "\n",
       "[5 rows x 42 columns]"
      ]
     },
     "execution_count": 132,
     "metadata": {},
     "output_type": "execute_result"
    }
   ],
   "source": [
    "import pandas as pd\n",
    "import json\n",
    "import pypyodbc\n",
    "\n",
    "conn = pypyodbc.connect(\"DRIVER={SQL Server};\\\n",
    "                        SERVER=yvwchallenge.chqn5g6ohkqb.ap-southeast-2.rds.amazonaws.com;\\\n",
    "                        UID=admin;\\\n",
    "                        PWD=passwordpassword;\\\n",
    "                        DATABASE=yvwchallenge\")\n",
    "#data[\"title\"] = data.boilerplate.map(lambda x: json.loads(x).get(\"title\", \"\"))\n",
    "#data[\"body\"] = data.boilerplate.map(lambda x: json.loads(x).get(\"body\", \"\"))\n",
    "#data = pd.read_sql(data_sql)\n",
    "\n",
    "yvw_df = pd.read_sql('SELECT * FROM yvwdataframe_firstbreak', conn)\n",
    "yvw_df.head()"
   ]
  },
  {
   "cell_type": "code",
   "execution_count": 133,
   "metadata": {
    "collapsed": false,
    "scrolled": true
   },
   "outputs": [
    {
     "data": {
      "text/plain": [
       "failure description    31365\n",
       "dtype: int64"
      ]
     },
     "execution_count": 133,
     "metadata": {},
     "output_type": "execute_result"
    }
   ],
   "source": [
    "yvw_df[[\"failure description\"]].count()"
   ]
  },
  {
   "cell_type": "code",
   "execution_count": 134,
   "metadata": {
    "collapsed": true
   },
   "outputs": [],
   "source": [
    "yvw_df.to_pickle(\"yvw_df_firstbreak.pkl\")"
   ]
  },
  {
   "cell_type": "code",
   "execution_count": 135,
   "metadata": {
    "collapsed": false
   },
   "outputs": [],
   "source": [
    "yvw_df = pd.read_pickle(\"yvw_df_firstbreak.pkl\")\n",
    "yvw_df = pd.DataFrame(yvw_df)"
   ]
  },
  {
   "cell_type": "code",
   "execution_count": 136,
   "metadata": {
    "collapsed": false
   },
   "outputs": [
    {
     "name": "stdout",
     "output_type": "stream",
     "text": [
      "                                                    asset id\n",
      "description                                                 \n",
      "Fault,Water (Drinking And Ndw) Works,Hydrant-fi...         1\n",
      "Fault,Water (Drinking And Ndw) Works,Hydrant-fi...         2\n",
      "Fault,Water (Drinking And Ndw) Works,Hydrant-fi...         1\n",
      "Fault,Water (Drinking And Ndw) Works,Hydrant-fi...         1\n",
      "Fault,Water (Drinking And Ndw) Works,Hydrant-fi...         2\n",
      "Fault,Water (Drinking And Ndw) Works,Hydrant-fi...         1\n",
      "Fault,Water (Drinking And Ndw) Works,Hydrant-fi...         1\n",
      "Fault,Water (Drinking And Ndw) Works,Hydrant-fi...         1\n",
      "Fault,Water (Drinking And Ndw) Works,Main,Drive...         1\n",
      "Fault,Water (Drinking And Ndw) Works,Main,Drive...         2\n",
      "Fault,Water (Drinking And Ndw) Works,Main,Drive...         2\n",
      "Fault,Water (Drinking And Ndw) Works,Main,Drive...         1\n",
      "Fault,Water (Drinking And Ndw) Works,Main,Drive...         1\n",
      "Fault,Water (Drinking And Ndw) Works,Main,Footp...         1\n",
      "Fault,Water (Drinking And Ndw) Works,Main,Footp...         1\n",
      "Fault,Water (Drinking And Ndw) Works,Main,Footp...         2\n",
      "Fault,Water (Drinking And Ndw) Works,Main,Footp...         1\n",
      "Fault,Water (Drinking And Ndw) Works,Main,Footp...         2\n",
      "Fault,Water (Drinking And Ndw) Works,Main,Footp...         1\n",
      "Fault,Water (Drinking And Ndw) Works,Main,Footp...         2\n",
      "Fault,Water (Drinking And Ndw) Works,Main,Footp...         1\n",
      "Fault,Water (Drinking And Ndw) Works,Main,Natur...         1\n",
      "Fault,Water (Drinking And Ndw) Works,Main,Natur...         1\n",
      "Fault,Water (Drinking And Ndw) Works,Main,Natur...         1\n",
      "Fault,Water (Drinking And Ndw) Works,Main,Natur...         4\n",
      "Fault,Water (Drinking And Ndw) Works,Main,Natur...         1\n",
      "Fault,Water (Drinking And Ndw) Works,Main,Natur...         3\n",
      "Fault,Water (Drinking And Ndw) Works,Main,Natur...         2\n",
      "Fault,Water (Drinking And Ndw) Works,Main,Natur...         1\n",
      "Fault,Water (Drinking And Ndw) Works,Main,Natur...         2\n",
      "...                                                      ...\n",
      "REP BURST MNS D>150-225DTH 0-2                           106\n",
      "REP BURST MNS D>225-300DTH 0-2                            48\n",
      "REP BURST MNS D>225-300DTH>2-3                            10\n",
      "REP BURST MNS DIA>150-225D>2-3                             9\n",
      "REP BURST MNS UPTO 100 DTH>2-3                          8242\n",
      "REP LEAK M/STEEL MNS<=300 0-2D                            43\n",
      "REP LEAK M/STEEL MNS<=300 2-3D                             6\n",
      "REP LEAK M/STEEL MNS>300 0-2D                              3\n",
      "REP LEAK M/STEEL MNS>300 2-3D                              1\n",
      "REP LEAK MAIN<150<2M DEEP                                 16\n",
      "REP LK 1.5DEEP NON MS <150DIA                            894\n",
      "REP LK 1.5DEEP NON MS <225 DIA                           139\n",
      "REP LK 1.5DEEP NON MS <300 DIA                            49\n",
      "REP LK 1.5M DEEP NON MS 100DIA                          4737\n",
      "REP LK >1.5DEEP NON MS <150DIA                           109\n",
      "REP LK >1.5DEEP NON MS <225DIA                            29\n",
      "REP LK >1.5DEEP NON MS <300DIA                            25\n",
      "REP LK >1.5M DEEP NON MS <100D                           125\n",
      "REP LK MS <1.5 DEEP <=100 DIA                             38\n",
      "REP LK MS <1.5DEEP >100=150DIA                             9\n",
      "REP LK MS >1.5 DEEP >150=225DI                             3\n",
      "REP LK MS >1.5DEEP >225=300DIA                            16\n",
      "REPAIR BURST MAIN<150<2M DEEP                             35\n",
      "REPAIR BURST WATER  MAIN                                   1\n",
      "REPAIR BURST WATER MAIN                                 3922\n",
      "REPAIR LEAKING WATER MAIN                               4004\n",
      "REPLACE BURST AC MAIN                                      2\n",
      "WATER LEAK/BURST-ROADWAY                                   2\n",
      "Water Repair Leaking Main                                  2\n",
      "Water Repair Service                                       2\n",
      "\n",
      "[154 rows x 1 columns]\n",
      "                   asset id\n",
      "nominal size (mm)          \n",
      "0                         5\n",
      "100                   21115\n",
      "110                       1\n",
      "125                     394\n",
      "150                    6329\n",
      "175                       3\n",
      "180                      63\n",
      "20                        2\n",
      "200                      46\n",
      "225                     858\n",
      "25                       29\n",
      "250                      21\n",
      "280                       3\n",
      "300                     364\n",
      "32                       70\n",
      "40                      994\n",
      "50                      122\n",
      "63                      446\n",
      "75                        5\n",
      "80                      493\n",
      "31365\n"
     ]
    },
    {
     "data": {
      "text/plain": [
       "'\\nsb.factorplot(x = \"failure description\",\\n              y = \"class structure\",\\n              kind = \"bar\",\\n              data = data)\\nplt.show()'"
      ]
     },
     "execution_count": 136,
     "metadata": {},
     "output_type": "execute_result"
    }
   ],
   "source": [
    "%matplotlib inline\n",
    "import matplotlib.pyplot as plt\n",
    "import seaborn as sb\n",
    "\n",
    "\n",
    "print(yvw_df.groupby([\"description\"])[[\"asset id\"]].count())\n",
    "print(yvw_df.groupby([\"nominal size (mm)\"])[[\"asset id\"]].count())\n",
    "print(yvw_df[\"failure description\"].count())\n",
    "\n",
    "'''\n",
    "sb.factorplot(x = \"failure description\",\n",
    "              y = \"class structure\",\n",
    "              kind = \"bar\",\n",
    "              data = data)\n",
    "plt.show()'''"
   ]
  },
  {
   "cell_type": "markdown",
   "metadata": {},
   "source": []
  },
  {
   "cell_type": "markdown",
   "metadata": {},
   "source": [
    "### Build a decision tree model to predict the \"evergreeness\" of a given website"
   ]
  },
  {
   "cell_type": "code",
   "execution_count": 137,
   "metadata": {
    "collapsed": false
   },
   "outputs": [
    {
     "data": {
      "text/html": [
       "<div>\n",
       "<table border=\"1\" class=\"dataframe\">\n",
       "  <thead>\n",
       "    <tr style=\"text-align: right;\">\n",
       "      <th></th>\n",
       "      <th>asset id</th>\n",
       "      <th>count</th>\n",
       "      <th>event time</th>\n",
       "      <th>event date</th>\n",
       "      <th>class structure</th>\n",
       "      <th>class structure id</th>\n",
       "      <th>material</th>\n",
       "      <th>nominal size (mm)</th>\n",
       "      <th>soil class</th>\n",
       "      <th>soil description</th>\n",
       "      <th>...</th>\n",
       "      <th>failure description</th>\n",
       "      <th>job plan</th>\n",
       "      <th>job plan number</th>\n",
       "      <th>service location id</th>\n",
       "      <th>formatted address</th>\n",
       "      <th>city</th>\n",
       "      <th>post code</th>\n",
       "      <th>latitude</th>\n",
       "      <th>longitude</th>\n",
       "      <th>months_break</th>\n",
       "    </tr>\n",
       "  </thead>\n",
       "  <tbody>\n",
       "    <tr>\n",
       "      <th>0</th>\n",
       "      <td>12858</td>\n",
       "      <td>0</td>\n",
       "      <td>412</td>\n",
       "      <td>1603</td>\n",
       "      <td>0</td>\n",
       "      <td>0</td>\n",
       "      <td>1</td>\n",
       "      <td>2</td>\n",
       "      <td>1</td>\n",
       "      <td>2</td>\n",
       "      <td>...</td>\n",
       "      <td>1</td>\n",
       "      <td>0</td>\n",
       "      <td>0</td>\n",
       "      <td>14971</td>\n",
       "      <td>85</td>\n",
       "      <td>167</td>\n",
       "      <td>67</td>\n",
       "      <td>24508</td>\n",
       "      <td>22938</td>\n",
       "      <td>179</td>\n",
       "    </tr>\n",
       "    <tr>\n",
       "      <th>1</th>\n",
       "      <td>12859</td>\n",
       "      <td>0</td>\n",
       "      <td>62</td>\n",
       "      <td>174</td>\n",
       "      <td>0</td>\n",
       "      <td>0</td>\n",
       "      <td>1</td>\n",
       "      <td>2</td>\n",
       "      <td>1</td>\n",
       "      <td>2</td>\n",
       "      <td>...</td>\n",
       "      <td>1</td>\n",
       "      <td>0</td>\n",
       "      <td>0</td>\n",
       "      <td>14970</td>\n",
       "      <td>20648</td>\n",
       "      <td>167</td>\n",
       "      <td>67</td>\n",
       "      <td>24514</td>\n",
       "      <td>22959</td>\n",
       "      <td>172</td>\n",
       "    </tr>\n",
       "    <tr>\n",
       "      <th>2</th>\n",
       "      <td>12860</td>\n",
       "      <td>0</td>\n",
       "      <td>744</td>\n",
       "      <td>2860</td>\n",
       "      <td>0</td>\n",
       "      <td>0</td>\n",
       "      <td>18</td>\n",
       "      <td>2</td>\n",
       "      <td>1</td>\n",
       "      <td>2</td>\n",
       "      <td>...</td>\n",
       "      <td>1</td>\n",
       "      <td>0</td>\n",
       "      <td>0</td>\n",
       "      <td>25865</td>\n",
       "      <td>5080</td>\n",
       "      <td>166</td>\n",
       "      <td>67</td>\n",
       "      <td>22327</td>\n",
       "      <td>23572</td>\n",
       "      <td>46</td>\n",
       "    </tr>\n",
       "    <tr>\n",
       "      <th>3</th>\n",
       "      <td>12861</td>\n",
       "      <td>0</td>\n",
       "      <td>228</td>\n",
       "      <td>1174</td>\n",
       "      <td>0</td>\n",
       "      <td>0</td>\n",
       "      <td>1</td>\n",
       "      <td>2</td>\n",
       "      <td>1</td>\n",
       "      <td>2</td>\n",
       "      <td>...</td>\n",
       "      <td>1</td>\n",
       "      <td>0</td>\n",
       "      <td>0</td>\n",
       "      <td>14579</td>\n",
       "      <td>25885</td>\n",
       "      <td>166</td>\n",
       "      <td>67</td>\n",
       "      <td>22542</td>\n",
       "      <td>23713</td>\n",
       "      <td>184</td>\n",
       "    </tr>\n",
       "    <tr>\n",
       "      <th>4</th>\n",
       "      <td>12862</td>\n",
       "      <td>0</td>\n",
       "      <td>360</td>\n",
       "      <td>2342</td>\n",
       "      <td>0</td>\n",
       "      <td>0</td>\n",
       "      <td>1</td>\n",
       "      <td>2</td>\n",
       "      <td>1</td>\n",
       "      <td>2</td>\n",
       "      <td>...</td>\n",
       "      <td>1</td>\n",
       "      <td>0</td>\n",
       "      <td>0</td>\n",
       "      <td>14608</td>\n",
       "      <td>9317</td>\n",
       "      <td>166</td>\n",
       "      <td>67</td>\n",
       "      <td>22707</td>\n",
       "      <td>23580</td>\n",
       "      <td>176</td>\n",
       "    </tr>\n",
       "  </tbody>\n",
       "</table>\n",
       "<p>5 rows × 42 columns</p>\n",
       "</div>"
      ],
      "text/plain": [
       "   asset id  count  event time  event date  class structure  \\\n",
       "0     12858      0         412        1603                0   \n",
       "1     12859      0          62         174                0   \n",
       "2     12860      0         744        2860                0   \n",
       "3     12861      0         228        1174                0   \n",
       "4     12862      0         360        2342                0   \n",
       "\n",
       "   class structure id  material  nominal size (mm)  soil class  \\\n",
       "0                   0         1                  2           1   \n",
       "1                   0         1                  2           1   \n",
       "2                   0        18                  2           1   \n",
       "3                   0         1                  2           1   \n",
       "4                   0         1                  2           1   \n",
       "\n",
       "   soil description      ...       failure description  job plan  \\\n",
       "0                 2      ...                         1         0   \n",
       "1                 2      ...                         1         0   \n",
       "2                 2      ...                         1         0   \n",
       "3                 2      ...                         1         0   \n",
       "4                 2      ...                         1         0   \n",
       "\n",
       "   job plan number  service location id  formatted address  city  post code  \\\n",
       "0                0                14971                 85   167         67   \n",
       "1                0                14970              20648   167         67   \n",
       "2                0                25865               5080   166         67   \n",
       "3                0                14579              25885   166         67   \n",
       "4                0                14608               9317   166         67   \n",
       "\n",
       "   latitude  longitude  months_break  \n",
       "0     24508      22938           179  \n",
       "1     24514      22959           172  \n",
       "2     22327      23572            46  \n",
       "3     22542      23713           184  \n",
       "4     22707      23580           176  \n",
       "\n",
       "[5 rows x 42 columns]"
      ]
     },
     "execution_count": 137,
     "metadata": {},
     "output_type": "execute_result"
    }
   ],
   "source": [
    "from sklearn.tree import DecisionTreeClassifier\n",
    "import pandas as pd\n",
    "import numpy as np\n",
    "from sklearn.preprocessing import LabelEncoder\n",
    "from sklearn.cross_validation import cross_val_score\n",
    "from collections import defaultdict\n",
    "d = defaultdict(LabelEncoder)\n",
    "\n",
    "fit = yvw_df.apply(lambda x: d[x.name].fit_transform(x))\n",
    "yvw_df = yvw_df.reindex()\n",
    "#yvw_df.apply(LabelEncoder().fit_transform)\n",
    "\n",
    "X = fit.dropna()\n",
    "y = X['months_break']\n",
    "X.drop('months_break', axis = 1, inplace = True)  \n",
    "\n",
    "fit.head()"
   ]
  },
  {
   "cell_type": "code",
   "execution_count": 138,
   "metadata": {
    "collapsed": false
   },
   "outputs": [
    {
     "name": "stdout",
     "output_type": "stream",
     "text": [
      "('CV AUC {}, Average AUC {}', array([ 0.08196721,  0.08380952,  0.0702439 ,  0.08075773,  0.07250755,\n",
      "        0.06542056,  0.0911983 ,  0.08924731,  0.08087432,  0.09162011,\n",
      "        0.08371041,  0.09070034,  0.08564815,  0.09400705,  0.05727924,\n",
      "        0.10206561,  0.08845209,  0.07240949,  0.0887199 ,  0.0978121 ,\n",
      "        0.09424084,  0.09643329,  0.09785523,  0.06657609,  0.07133059,\n",
      "        0.07103064,  0.08522727,  0.07380608,  0.08491947,  0.09104478,\n",
      "        0.06959153,  0.08242613,  0.07911392,  0.10483871,  0.06873977,\n",
      "        0.08      ,  0.07179487,  0.07986111,  0.07460036,  0.07650273]), 0.082209607489716383)\n"
     ]
    }
   ],
   "source": [
    " # Fits the model\n",
    "model = DecisionTreeClassifier()\n",
    "model.fit(X, y)\n",
    "\n",
    "# Helper function to visualise Decision Trees (creates a file tree.png)\n",
    "from sklearn.tree import export_graphviz\n",
    "from os import system\n",
    "\n",
    "def build_tree_image(model):\n",
    "    dotfile = open(\"tree.dot\", \"w\")\n",
    "    export_graphviz(model,\n",
    "                    out_file = dotfile,\n",
    "                    feature_names = X.columns)\n",
    "    dotfile.close()\n",
    "    system(\"dot -Tpng tree.dot -o tree.png\")\n",
    "build_tree_image(model)\n",
    "    \n",
    "model\n",
    "scores = cross_val_score(model, X, y, cv = 40)\n",
    "print(\"CV AUC {}, Average AUC {}\",scores, scores.mean())\n",
    "#20 columns"
   ]
  },
  {
   "cell_type": "code",
   "execution_count": 139,
   "metadata": {
    "collapsed": false
   },
   "outputs": [
    {
     "name": "stdout",
     "output_type": "stream",
     "text": [
      "['asset id', 'count', 'event time', 'event date', 'class structure', 'class structure id', 'material', 'nominal size (mm)', 'soil class', 'soil description', 'grant description', 'pipe inside diameter (mm)', 'pipe material', 'pipe shape', 'construction date (yyyymmdd)', 'pipe lining', 'date insulated', 'tapping status', 'road name', 'road type', 'pipe length (m)', 'pipe status', 'height start of pipe (meters above sea level)', 'height end of pipe (meters above sea level)', 'latitude start of pipe', 'lattitude end of pipe', 'longitude start of pipe', 'longitude end of pipe', 'distribution zone id', 'water quality zone id', 'description', 'failure code', 'failure description', 'job plan', 'job plan number', 'service location id', 'formatted address', 'city', 'post code', 'latitude', 'longitude', 'months_break']\n"
     ]
    }
   ],
   "source": [
    "print(yvw_df.columns.tolist())"
   ]
  },
  {
   "cell_type": "code",
   "execution_count": 147,
   "metadata": {
    "collapsed": false
   },
   "outputs": [
    {
     "name": "stdout",
     "output_type": "stream",
     "text": [
      "0.061979519055\n"
     ]
    }
   ],
   "source": [
    "# Random Forest Classification\n",
    "import pandas\n",
    "from sklearn import model_selection\n",
    "from sklearn.ensemble import RandomForestClassifier\n",
    "from sklearn.cross_validation import cross_val_score\n",
    "\n",
    "seed = 7\n",
    "num_trees = 300\n",
    "max_features = 10\n",
    "kfold = model_selection.KFold(n_splits=10, random_state=seed)\n",
    "model = RandomForestClassifier(n_estimators=num_trees, max_features=max_features)\n",
    "results = model_selection.cross_val_score(model, X, y, cv=kfold)\n",
    "print(results.mean())"
   ]
  },
  {
   "cell_type": "markdown",
   "metadata": {},
   "source": [
    "### Demonstration: Control for overfitting in the decision model by adjusting the maximum number of questions (max_depth) or the minimum number of records in each final node (min_samples_leaf)"
   ]
  },
  {
   "cell_type": "code",
   "execution_count": 141,
   "metadata": {
    "collapsed": false
   },
   "outputs": [],
   "source": [
    "model = DecisionTreeClassifier(max_depth = 2, min_samples_leaf = 5)\n",
    "model.fit(X, y)\n",
    "build_tree_image(model)"
   ]
  },
  {
   "cell_type": "markdown",
   "metadata": {},
   "source": [
    "### Demonstration: Build a random forest model to predict the evergreeness of a website"
   ]
  },
  {
   "cell_type": "code",
   "execution_count": 142,
   "metadata": {
    "collapsed": false
   },
   "outputs": [
    {
     "data": {
      "text/plain": [
       "RandomForestClassifier(bootstrap=True, class_weight=None, criterion='gini',\n",
       "            max_depth=None, max_features='auto', max_leaf_nodes=None,\n",
       "            min_impurity_split=1e-07, min_samples_leaf=1,\n",
       "            min_samples_split=2, min_weight_fraction_leaf=0.0,\n",
       "            n_estimators=20, n_jobs=5, oob_score=False, random_state=None,\n",
       "            verbose=0, warm_start=False)"
      ]
     },
     "execution_count": 142,
     "metadata": {},
     "output_type": "execute_result"
    }
   ],
   "source": [
    "from sklearn.ensemble import RandomForestClassifier\n",
    "\n",
    "model = RandomForestClassifier(n_estimators = 20, n_jobs=5)    \n",
    "model.fit(X, y)"
   ]
  },
  {
   "cell_type": "markdown",
   "metadata": {},
   "source": [
    "### Demonstration: Extracting importance of features"
   ]
  },
  {
   "cell_type": "code",
   "execution_count": 143,
   "metadata": {
    "collapsed": false
   },
   "outputs": [
    {
     "data": {
      "text/html": [
       "<div>\n",
       "<table border=\"1\" class=\"dataframe\">\n",
       "  <thead>\n",
       "    <tr style=\"text-align: right;\">\n",
       "      <th></th>\n",
       "      <th>Features</th>\n",
       "      <th>Importance Score</th>\n",
       "    </tr>\n",
       "  </thead>\n",
       "  <tbody>\n",
       "    <tr>\n",
       "      <th>14</th>\n",
       "      <td>construction date (yyyymmdd)</td>\n",
       "      <td>0.063907</td>\n",
       "    </tr>\n",
       "    <tr>\n",
       "      <th>3</th>\n",
       "      <td>event date</td>\n",
       "      <td>0.053942</td>\n",
       "    </tr>\n",
       "    <tr>\n",
       "      <th>2</th>\n",
       "      <td>event time</td>\n",
       "      <td>0.051854</td>\n",
       "    </tr>\n",
       "    <tr>\n",
       "      <th>20</th>\n",
       "      <td>pipe length (m)</td>\n",
       "      <td>0.051533</td>\n",
       "    </tr>\n",
       "    <tr>\n",
       "      <th>0</th>\n",
       "      <td>asset id</td>\n",
       "      <td>0.051357</td>\n",
       "    </tr>\n",
       "  </tbody>\n",
       "</table>\n",
       "</div>"
      ],
      "text/plain": [
       "                        Features  Importance Score\n",
       "14  construction date (yyyymmdd)          0.063907\n",
       "3                     event date          0.053942\n",
       "2                     event time          0.051854\n",
       "20               pipe length (m)          0.051533\n",
       "0                       asset id          0.051357"
      ]
     },
     "execution_count": 143,
     "metadata": {},
     "output_type": "execute_result"
    }
   ],
   "source": [
    "features = X.columns\n",
    "feature_importances = model.feature_importances_\n",
    "\n",
    "features_df = pd.DataFrame({\"Features\": features, \"Importance Score\": feature_importances})\n",
    "features_df.sort_values(\"Importance Score\", inplace = True, ascending = False)\n",
    "\n",
    "features_df.head()"
   ]
  },
  {
   "cell_type": "markdown",
   "metadata": {},
   "source": [
    "### Exercise: Evaluate the Random Forest model using cross-validation; increase the number of estimators and view how that improves predictive performance"
   ]
  },
  {
   "cell_type": "code",
   "execution_count": 144,
   "metadata": {
    "collapsed": false
   },
   "outputs": [
    {
     "name": "stderr",
     "output_type": "stream",
     "text": [
      "C:\\Program Files\\Anaconda2\\lib\\site-packages\\sklearn\\cross_validation.py:552: Warning: The least populated class in y has only 1 members, which is too few. The minimum number of labels for any class cannot be less than n_folds=3.\n",
      "  % (min_labels, self.n_folds)), Warning)\n"
     ]
    },
    {
     "ename": "ValueError",
     "evalue": "multiclass format is not supported",
     "output_type": "error",
     "traceback": [
      "\u001b[0;31m---------------------------------------------------------------------------\u001b[0m",
      "\u001b[0;31mValueError\u001b[0m                                Traceback (most recent call last)",
      "\u001b[0;32m<ipython-input-144-a63c912c290e>\u001b[0m in \u001b[0;36m<module>\u001b[0;34m()\u001b[0m\n\u001b[1;32m      1\u001b[0m \u001b[1;32mfrom\u001b[0m \u001b[0msklearn\u001b[0m\u001b[1;33m.\u001b[0m\u001b[0mcross_validation\u001b[0m \u001b[1;32mimport\u001b[0m \u001b[0mcross_val_score\u001b[0m\u001b[1;33m\u001b[0m\u001b[0m\n\u001b[1;32m      2\u001b[0m \u001b[1;33m\u001b[0m\u001b[0m\n\u001b[0;32m----> 3\u001b[0;31m \u001b[0mscores\u001b[0m \u001b[1;33m=\u001b[0m \u001b[0mcross_val_score\u001b[0m\u001b[1;33m(\u001b[0m\u001b[0mmodel\u001b[0m\u001b[1;33m,\u001b[0m \u001b[0mX\u001b[0m\u001b[1;33m,\u001b[0m \u001b[0my\u001b[0m\u001b[1;33m,\u001b[0m \u001b[0mscoring\u001b[0m \u001b[1;33m=\u001b[0m \u001b[1;34m\"roc_auc\"\u001b[0m\u001b[1;33m)\u001b[0m\u001b[1;33m\u001b[0m\u001b[0m\n\u001b[0m\u001b[1;32m      4\u001b[0m \u001b[1;32mprint\u001b[0m\u001b[1;33m(\u001b[0m\u001b[1;34m\"CV AUC {}, Average AUC {}\"\u001b[0m\u001b[1;33m.\u001b[0m\u001b[0mformat\u001b[0m\u001b[1;33m(\u001b[0m\u001b[0mscores\u001b[0m\u001b[1;33m,\u001b[0m \u001b[0mscores\u001b[0m\u001b[1;33m.\u001b[0m\u001b[0mmean\u001b[0m\u001b[1;33m(\u001b[0m\u001b[1;33m)\u001b[0m\u001b[1;33m)\u001b[0m\u001b[1;33m)\u001b[0m\u001b[1;33m\u001b[0m\u001b[0m\n\u001b[1;32m      5\u001b[0m \u001b[1;33m\u001b[0m\u001b[0m\n",
      "\u001b[0;32mC:\\Program Files\\Anaconda2\\lib\\site-packages\\sklearn\\cross_validation.pyc\u001b[0m in \u001b[0;36mcross_val_score\u001b[0;34m(estimator, X, y, scoring, cv, n_jobs, verbose, fit_params, pre_dispatch)\u001b[0m\n\u001b[1;32m   1569\u001b[0m                                               \u001b[0mtrain\u001b[0m\u001b[1;33m,\u001b[0m \u001b[0mtest\u001b[0m\u001b[1;33m,\u001b[0m \u001b[0mverbose\u001b[0m\u001b[1;33m,\u001b[0m \u001b[0mNone\u001b[0m\u001b[1;33m,\u001b[0m\u001b[1;33m\u001b[0m\u001b[0m\n\u001b[1;32m   1570\u001b[0m                                               fit_params)\n\u001b[0;32m-> 1571\u001b[0;31m                       for train, test in cv)\n\u001b[0m\u001b[1;32m   1572\u001b[0m     \u001b[1;32mreturn\u001b[0m \u001b[0mnp\u001b[0m\u001b[1;33m.\u001b[0m\u001b[0marray\u001b[0m\u001b[1;33m(\u001b[0m\u001b[0mscores\u001b[0m\u001b[1;33m)\u001b[0m\u001b[1;33m[\u001b[0m\u001b[1;33m:\u001b[0m\u001b[1;33m,\u001b[0m \u001b[1;36m0\u001b[0m\u001b[1;33m]\u001b[0m\u001b[1;33m\u001b[0m\u001b[0m\n\u001b[1;32m   1573\u001b[0m \u001b[1;33m\u001b[0m\u001b[0m\n",
      "\u001b[0;32mC:\\Program Files\\Anaconda2\\lib\\site-packages\\sklearn\\externals\\joblib\\parallel.pyc\u001b[0m in \u001b[0;36m__call__\u001b[0;34m(self, iterable)\u001b[0m\n\u001b[1;32m    756\u001b[0m             \u001b[1;31m# was dispatched. In particular this covers the edge\u001b[0m\u001b[1;33m\u001b[0m\u001b[1;33m\u001b[0m\u001b[0m\n\u001b[1;32m    757\u001b[0m             \u001b[1;31m# case of Parallel used with an exhausted iterator.\u001b[0m\u001b[1;33m\u001b[0m\u001b[1;33m\u001b[0m\u001b[0m\n\u001b[0;32m--> 758\u001b[0;31m             \u001b[1;32mwhile\u001b[0m \u001b[0mself\u001b[0m\u001b[1;33m.\u001b[0m\u001b[0mdispatch_one_batch\u001b[0m\u001b[1;33m(\u001b[0m\u001b[0miterator\u001b[0m\u001b[1;33m)\u001b[0m\u001b[1;33m:\u001b[0m\u001b[1;33m\u001b[0m\u001b[0m\n\u001b[0m\u001b[1;32m    759\u001b[0m                 \u001b[0mself\u001b[0m\u001b[1;33m.\u001b[0m\u001b[0m_iterating\u001b[0m \u001b[1;33m=\u001b[0m \u001b[0mTrue\u001b[0m\u001b[1;33m\u001b[0m\u001b[0m\n\u001b[1;32m    760\u001b[0m             \u001b[1;32melse\u001b[0m\u001b[1;33m:\u001b[0m\u001b[1;33m\u001b[0m\u001b[0m\n",
      "\u001b[0;32mC:\\Program Files\\Anaconda2\\lib\\site-packages\\sklearn\\externals\\joblib\\parallel.pyc\u001b[0m in \u001b[0;36mdispatch_one_batch\u001b[0;34m(self, iterator)\u001b[0m\n\u001b[1;32m    606\u001b[0m                 \u001b[1;32mreturn\u001b[0m \u001b[0mFalse\u001b[0m\u001b[1;33m\u001b[0m\u001b[0m\n\u001b[1;32m    607\u001b[0m             \u001b[1;32melse\u001b[0m\u001b[1;33m:\u001b[0m\u001b[1;33m\u001b[0m\u001b[0m\n\u001b[0;32m--> 608\u001b[0;31m                 \u001b[0mself\u001b[0m\u001b[1;33m.\u001b[0m\u001b[0m_dispatch\u001b[0m\u001b[1;33m(\u001b[0m\u001b[0mtasks\u001b[0m\u001b[1;33m)\u001b[0m\u001b[1;33m\u001b[0m\u001b[0m\n\u001b[0m\u001b[1;32m    609\u001b[0m                 \u001b[1;32mreturn\u001b[0m \u001b[0mTrue\u001b[0m\u001b[1;33m\u001b[0m\u001b[0m\n\u001b[1;32m    610\u001b[0m \u001b[1;33m\u001b[0m\u001b[0m\n",
      "\u001b[0;32mC:\\Program Files\\Anaconda2\\lib\\site-packages\\sklearn\\externals\\joblib\\parallel.pyc\u001b[0m in \u001b[0;36m_dispatch\u001b[0;34m(self, batch)\u001b[0m\n\u001b[1;32m    569\u001b[0m         \u001b[0mdispatch_timestamp\u001b[0m \u001b[1;33m=\u001b[0m \u001b[0mtime\u001b[0m\u001b[1;33m.\u001b[0m\u001b[0mtime\u001b[0m\u001b[1;33m(\u001b[0m\u001b[1;33m)\u001b[0m\u001b[1;33m\u001b[0m\u001b[0m\n\u001b[1;32m    570\u001b[0m         \u001b[0mcb\u001b[0m \u001b[1;33m=\u001b[0m \u001b[0mBatchCompletionCallBack\u001b[0m\u001b[1;33m(\u001b[0m\u001b[0mdispatch_timestamp\u001b[0m\u001b[1;33m,\u001b[0m \u001b[0mlen\u001b[0m\u001b[1;33m(\u001b[0m\u001b[0mbatch\u001b[0m\u001b[1;33m)\u001b[0m\u001b[1;33m,\u001b[0m \u001b[0mself\u001b[0m\u001b[1;33m)\u001b[0m\u001b[1;33m\u001b[0m\u001b[0m\n\u001b[0;32m--> 571\u001b[0;31m         \u001b[0mjob\u001b[0m \u001b[1;33m=\u001b[0m \u001b[0mself\u001b[0m\u001b[1;33m.\u001b[0m\u001b[0m_backend\u001b[0m\u001b[1;33m.\u001b[0m\u001b[0mapply_async\u001b[0m\u001b[1;33m(\u001b[0m\u001b[0mbatch\u001b[0m\u001b[1;33m,\u001b[0m \u001b[0mcallback\u001b[0m\u001b[1;33m=\u001b[0m\u001b[0mcb\u001b[0m\u001b[1;33m)\u001b[0m\u001b[1;33m\u001b[0m\u001b[0m\n\u001b[0m\u001b[1;32m    572\u001b[0m         \u001b[0mself\u001b[0m\u001b[1;33m.\u001b[0m\u001b[0m_jobs\u001b[0m\u001b[1;33m.\u001b[0m\u001b[0mappend\u001b[0m\u001b[1;33m(\u001b[0m\u001b[0mjob\u001b[0m\u001b[1;33m)\u001b[0m\u001b[1;33m\u001b[0m\u001b[0m\n\u001b[1;32m    573\u001b[0m \u001b[1;33m\u001b[0m\u001b[0m\n",
      "\u001b[0;32mC:\\Program Files\\Anaconda2\\lib\\site-packages\\sklearn\\externals\\joblib\\_parallel_backends.pyc\u001b[0m in \u001b[0;36mapply_async\u001b[0;34m(self, func, callback)\u001b[0m\n\u001b[1;32m    107\u001b[0m     \u001b[1;32mdef\u001b[0m \u001b[0mapply_async\u001b[0m\u001b[1;33m(\u001b[0m\u001b[0mself\u001b[0m\u001b[1;33m,\u001b[0m \u001b[0mfunc\u001b[0m\u001b[1;33m,\u001b[0m \u001b[0mcallback\u001b[0m\u001b[1;33m=\u001b[0m\u001b[0mNone\u001b[0m\u001b[1;33m)\u001b[0m\u001b[1;33m:\u001b[0m\u001b[1;33m\u001b[0m\u001b[0m\n\u001b[1;32m    108\u001b[0m         \u001b[1;34m\"\"\"Schedule a func to be run\"\"\"\u001b[0m\u001b[1;33m\u001b[0m\u001b[0m\n\u001b[0;32m--> 109\u001b[0;31m         \u001b[0mresult\u001b[0m \u001b[1;33m=\u001b[0m \u001b[0mImmediateResult\u001b[0m\u001b[1;33m(\u001b[0m\u001b[0mfunc\u001b[0m\u001b[1;33m)\u001b[0m\u001b[1;33m\u001b[0m\u001b[0m\n\u001b[0m\u001b[1;32m    110\u001b[0m         \u001b[1;32mif\u001b[0m \u001b[0mcallback\u001b[0m\u001b[1;33m:\u001b[0m\u001b[1;33m\u001b[0m\u001b[0m\n\u001b[1;32m    111\u001b[0m             \u001b[0mcallback\u001b[0m\u001b[1;33m(\u001b[0m\u001b[0mresult\u001b[0m\u001b[1;33m)\u001b[0m\u001b[1;33m\u001b[0m\u001b[0m\n",
      "\u001b[0;32mC:\\Program Files\\Anaconda2\\lib\\site-packages\\sklearn\\externals\\joblib\\_parallel_backends.pyc\u001b[0m in \u001b[0;36m__init__\u001b[0;34m(self, batch)\u001b[0m\n\u001b[1;32m    324\u001b[0m         \u001b[1;31m# Don't delay the application, to avoid keeping the input\u001b[0m\u001b[1;33m\u001b[0m\u001b[1;33m\u001b[0m\u001b[0m\n\u001b[1;32m    325\u001b[0m         \u001b[1;31m# arguments in memory\u001b[0m\u001b[1;33m\u001b[0m\u001b[1;33m\u001b[0m\u001b[0m\n\u001b[0;32m--> 326\u001b[0;31m         \u001b[0mself\u001b[0m\u001b[1;33m.\u001b[0m\u001b[0mresults\u001b[0m \u001b[1;33m=\u001b[0m \u001b[0mbatch\u001b[0m\u001b[1;33m(\u001b[0m\u001b[1;33m)\u001b[0m\u001b[1;33m\u001b[0m\u001b[0m\n\u001b[0m\u001b[1;32m    327\u001b[0m \u001b[1;33m\u001b[0m\u001b[0m\n\u001b[1;32m    328\u001b[0m     \u001b[1;32mdef\u001b[0m \u001b[0mget\u001b[0m\u001b[1;33m(\u001b[0m\u001b[0mself\u001b[0m\u001b[1;33m)\u001b[0m\u001b[1;33m:\u001b[0m\u001b[1;33m\u001b[0m\u001b[0m\n",
      "\u001b[0;32mC:\\Program Files\\Anaconda2\\lib\\site-packages\\sklearn\\externals\\joblib\\parallel.pyc\u001b[0m in \u001b[0;36m__call__\u001b[0;34m(self)\u001b[0m\n\u001b[1;32m    129\u001b[0m \u001b[1;33m\u001b[0m\u001b[0m\n\u001b[1;32m    130\u001b[0m     \u001b[1;32mdef\u001b[0m \u001b[0m__call__\u001b[0m\u001b[1;33m(\u001b[0m\u001b[0mself\u001b[0m\u001b[1;33m)\u001b[0m\u001b[1;33m:\u001b[0m\u001b[1;33m\u001b[0m\u001b[0m\n\u001b[0;32m--> 131\u001b[0;31m         \u001b[1;32mreturn\u001b[0m \u001b[1;33m[\u001b[0m\u001b[0mfunc\u001b[0m\u001b[1;33m(\u001b[0m\u001b[1;33m*\u001b[0m\u001b[0margs\u001b[0m\u001b[1;33m,\u001b[0m \u001b[1;33m**\u001b[0m\u001b[0mkwargs\u001b[0m\u001b[1;33m)\u001b[0m \u001b[1;32mfor\u001b[0m \u001b[0mfunc\u001b[0m\u001b[1;33m,\u001b[0m \u001b[0margs\u001b[0m\u001b[1;33m,\u001b[0m \u001b[0mkwargs\u001b[0m \u001b[1;32min\u001b[0m \u001b[0mself\u001b[0m\u001b[1;33m.\u001b[0m\u001b[0mitems\u001b[0m\u001b[1;33m]\u001b[0m\u001b[1;33m\u001b[0m\u001b[0m\n\u001b[0m\u001b[1;32m    132\u001b[0m \u001b[1;33m\u001b[0m\u001b[0m\n\u001b[1;32m    133\u001b[0m     \u001b[1;32mdef\u001b[0m \u001b[0m__len__\u001b[0m\u001b[1;33m(\u001b[0m\u001b[0mself\u001b[0m\u001b[1;33m)\u001b[0m\u001b[1;33m:\u001b[0m\u001b[1;33m\u001b[0m\u001b[0m\n",
      "\u001b[0;32mC:\\Program Files\\Anaconda2\\lib\\site-packages\\sklearn\\cross_validation.pyc\u001b[0m in \u001b[0;36m_fit_and_score\u001b[0;34m(estimator, X, y, scorer, train, test, verbose, parameters, fit_params, return_train_score, return_parameters, error_score)\u001b[0m\n\u001b[1;32m   1682\u001b[0m \u001b[1;33m\u001b[0m\u001b[0m\n\u001b[1;32m   1683\u001b[0m     \u001b[1;32melse\u001b[0m\u001b[1;33m:\u001b[0m\u001b[1;33m\u001b[0m\u001b[0m\n\u001b[0;32m-> 1684\u001b[0;31m         \u001b[0mtest_score\u001b[0m \u001b[1;33m=\u001b[0m \u001b[0m_score\u001b[0m\u001b[1;33m(\u001b[0m\u001b[0mestimator\u001b[0m\u001b[1;33m,\u001b[0m \u001b[0mX_test\u001b[0m\u001b[1;33m,\u001b[0m \u001b[0my_test\u001b[0m\u001b[1;33m,\u001b[0m \u001b[0mscorer\u001b[0m\u001b[1;33m)\u001b[0m\u001b[1;33m\u001b[0m\u001b[0m\n\u001b[0m\u001b[1;32m   1685\u001b[0m         \u001b[1;32mif\u001b[0m \u001b[0mreturn_train_score\u001b[0m\u001b[1;33m:\u001b[0m\u001b[1;33m\u001b[0m\u001b[0m\n\u001b[1;32m   1686\u001b[0m             \u001b[0mtrain_score\u001b[0m \u001b[1;33m=\u001b[0m \u001b[0m_score\u001b[0m\u001b[1;33m(\u001b[0m\u001b[0mestimator\u001b[0m\u001b[1;33m,\u001b[0m \u001b[0mX_train\u001b[0m\u001b[1;33m,\u001b[0m \u001b[0my_train\u001b[0m\u001b[1;33m,\u001b[0m \u001b[0mscorer\u001b[0m\u001b[1;33m)\u001b[0m\u001b[1;33m\u001b[0m\u001b[0m\n",
      "\u001b[0;32mC:\\Program Files\\Anaconda2\\lib\\site-packages\\sklearn\\cross_validation.pyc\u001b[0m in \u001b[0;36m_score\u001b[0;34m(estimator, X_test, y_test, scorer)\u001b[0m\n\u001b[1;32m   1739\u001b[0m         \u001b[0mscore\u001b[0m \u001b[1;33m=\u001b[0m \u001b[0mscorer\u001b[0m\u001b[1;33m(\u001b[0m\u001b[0mestimator\u001b[0m\u001b[1;33m,\u001b[0m \u001b[0mX_test\u001b[0m\u001b[1;33m)\u001b[0m\u001b[1;33m\u001b[0m\u001b[0m\n\u001b[1;32m   1740\u001b[0m     \u001b[1;32melse\u001b[0m\u001b[1;33m:\u001b[0m\u001b[1;33m\u001b[0m\u001b[0m\n\u001b[0;32m-> 1741\u001b[0;31m         \u001b[0mscore\u001b[0m \u001b[1;33m=\u001b[0m \u001b[0mscorer\u001b[0m\u001b[1;33m(\u001b[0m\u001b[0mestimator\u001b[0m\u001b[1;33m,\u001b[0m \u001b[0mX_test\u001b[0m\u001b[1;33m,\u001b[0m \u001b[0my_test\u001b[0m\u001b[1;33m)\u001b[0m\u001b[1;33m\u001b[0m\u001b[0m\n\u001b[0m\u001b[1;32m   1742\u001b[0m     \u001b[1;32mif\u001b[0m \u001b[0mhasattr\u001b[0m\u001b[1;33m(\u001b[0m\u001b[0mscore\u001b[0m\u001b[1;33m,\u001b[0m \u001b[1;34m'item'\u001b[0m\u001b[1;33m)\u001b[0m\u001b[1;33m:\u001b[0m\u001b[1;33m\u001b[0m\u001b[0m\n\u001b[1;32m   1743\u001b[0m         \u001b[1;32mtry\u001b[0m\u001b[1;33m:\u001b[0m\u001b[1;33m\u001b[0m\u001b[0m\n",
      "\u001b[0;32mC:\\Program Files\\Anaconda2\\lib\\site-packages\\sklearn\\metrics\\scorer.pyc\u001b[0m in \u001b[0;36m__call__\u001b[0;34m(self, clf, X, y, sample_weight)\u001b[0m\n\u001b[1;32m    169\u001b[0m         \u001b[0my_type\u001b[0m \u001b[1;33m=\u001b[0m \u001b[0mtype_of_target\u001b[0m\u001b[1;33m(\u001b[0m\u001b[0my\u001b[0m\u001b[1;33m)\u001b[0m\u001b[1;33m\u001b[0m\u001b[0m\n\u001b[1;32m    170\u001b[0m         \u001b[1;32mif\u001b[0m \u001b[0my_type\u001b[0m \u001b[1;32mnot\u001b[0m \u001b[1;32min\u001b[0m \u001b[1;33m(\u001b[0m\u001b[1;34m\"binary\"\u001b[0m\u001b[1;33m,\u001b[0m \u001b[1;34m\"multilabel-indicator\"\u001b[0m\u001b[1;33m)\u001b[0m\u001b[1;33m:\u001b[0m\u001b[1;33m\u001b[0m\u001b[0m\n\u001b[0;32m--> 171\u001b[0;31m             \u001b[1;32mraise\u001b[0m \u001b[0mValueError\u001b[0m\u001b[1;33m(\u001b[0m\u001b[1;34m\"{0} format is not supported\"\u001b[0m\u001b[1;33m.\u001b[0m\u001b[0mformat\u001b[0m\u001b[1;33m(\u001b[0m\u001b[0my_type\u001b[0m\u001b[1;33m)\u001b[0m\u001b[1;33m)\u001b[0m\u001b[1;33m\u001b[0m\u001b[0m\n\u001b[0m\u001b[1;32m    172\u001b[0m \u001b[1;33m\u001b[0m\u001b[0m\n\u001b[1;32m    173\u001b[0m         \u001b[1;32mif\u001b[0m \u001b[0mis_regressor\u001b[0m\u001b[1;33m(\u001b[0m\u001b[0mclf\u001b[0m\u001b[1;33m)\u001b[0m\u001b[1;33m:\u001b[0m\u001b[1;33m\u001b[0m\u001b[0m\n",
      "\u001b[0;31mValueError\u001b[0m: multiclass format is not supported"
     ]
    }
   ],
   "source": [
    "from sklearn.cross_validation import cross_val_score\n",
    "\n",
    "scores = cross_val_score(model, X, y, scoring = \"roc_auc\")\n",
    "print(\"CV AUC {}, Average AUC {}\".format(scores, scores.mean()))\n",
    "\n",
    "for n_trees in range(1, 100, 10):\n",
    "    model = RandomForestClassifier(n_estimators = n_trees)\n",
    "    scores = cross_val_score(model, X, y, scoring = \"roc_auc\")\n",
    "    print(\"n trees: {}, CV AUC {}, Average AUC {}\".format(n_trees, scores, scores.mean()))"
   ]
  },
  {
   "cell_type": "markdown",
   "metadata": {},
   "source": [
    "## Independent Practice: Evaluate Random Forest Using Cross-Validation"
   ]
  },
  {
   "cell_type": "markdown",
   "metadata": {},
   "source": [
    "1. Continue adding input variables to the model that you think may be relevant\n",
    "2. For each feature:\n",
    "  - Evaluate the model for improved predictive performance using cross-validation\n",
    "  - Evaluate the **importance** of the feature\n",
    "3. **Bonus**: Just like the \"recipe\" feature, add in similar text features and evaluate their performance"
   ]
  },
  {
   "cell_type": "code",
   "execution_count": null,
   "metadata": {
    "collapsed": false
   },
   "outputs": [],
   "source": [
    "## 1. Building a model with more relevant features\n",
    "\n",
    "model = RandomForestClassifier(n_estimators = 50)\n",
    "\n",
    "# Continue to add features to X\n",
    "#     Build dummy features, include quantitative features, or add text features\n",
    "X = data[[\"image_ratio\", \"html_ratio\", \"recipe\", \"label\"]].dropna()\n",
    "y = X[\"label\"]\n",
    "X.drop(\"label\", axis = 1, inplace = True)\n",
    "\n",
    "## 2a. Evaluate predictive performance for the given feature set\n",
    "scores = cross_val_score(model, X, y, scoring = \"roc_auc\")\n",
    "print(\"CV AUC {}, Average AUC {}\".format(scores, scores.mean()))\n",
    "\n",
    "# 3 (BONUS): Adding in text features\n",
    "\n",
    "# Check for keywords in the title\n",
    "data[\"PhotoInTitle\"] = data[\"title\"].fillna(\"\").str.lower().str.contains(\"photo\").astype(int)\n",
    "X = data[[\"image_ratio\", \"html_ratio\", \"recipe\", \"PhotoInTitle\", \"label\"]].dropna()\n",
    "X.drop(\"label\", axis = 1, inplace = True)\n",
    "\n",
    "scores = cross_val_score(model, X, y, scoring = \"roc_auc\")\n",
    "print(\"CV AUC {}, Average AUC {}\".format(scores, scores.mean()))\n",
    "\n",
    "## 2b. Evaluating feature importances\n",
    "\n",
    "# Fit a model on the whole dataset\n",
    "model.fit(X, y)\n",
    "\n",
    "# Get columns and their scores\n",
    "features = X.columns\n",
    "feature_importances = model.feature_importances_\n",
    "features_df = pd.DataFrame({\"Features\": features, \"Importance Score\": feature_importances})\n",
    "features_df.sort_values(\"Importance Score\", inplace = True, ascending = False)\n",
    "\n",
    "features_df.head()"
   ]
  }
 ],
 "metadata": {
  "anaconda-cloud": {},
  "kernelspec": {
   "display_name": "Python [conda root]",
   "language": "python",
   "name": "conda-root-py"
  },
  "language_info": {
   "codemirror_mode": {
    "name": "ipython",
    "version": 2
   },
   "file_extension": ".py",
   "mimetype": "text/x-python",
   "name": "python",
   "nbconvert_exporter": "python",
   "pygments_lexer": "ipython2",
   "version": "2.7.12"
  }
 },
 "nbformat": 4,
 "nbformat_minor": 0
}
