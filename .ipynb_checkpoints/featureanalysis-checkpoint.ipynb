{
 "cells": [
  {
   "cell_type": "markdown",
   "metadata": {
    "collapsed": true
   },
   "source": [
    "# Predicting Pipe Failure Conditions with Decision Trees and Random Forests"
   ]
  },
  {
   "cell_type": "code",
   "execution_count": null,
   "metadata": {
    "collapsed": true
   },
   "outputs": [],
   "source": [
    "#dependancies list\n",
    "'''\n",
    "- pymssql\n",
    "- pandas\n",
    "- json\n",
    "\n",
    "\n",
    "'''"
   ]
  },
  {
   "cell_type": "markdown",
   "metadata": {
    "collapsed": true
   },
   "source": [
    "## Importing Data from SQL"
   ]
  },
  {
   "cell_type": "code",
   "execution_count": 16,
   "metadata": {
    "collapsed": false,
    "scrolled": true
   },
   "outputs": [
    {
     "data": {
      "text/html": [
       "<div>\n",
       "<table border=\"1\" class=\"dataframe\">\n",
       "  <thead>\n",
       "    <tr style=\"text-align: right;\">\n",
       "      <th></th>\n",
       "      <th>asset id</th>\n",
       "      <th>event time</th>\n",
       "      <th>event date</th>\n",
       "      <th>class structure</th>\n",
       "      <th>class structure id</th>\n",
       "      <th>material</th>\n",
       "      <th>nominal size (mm)</th>\n",
       "      <th>soil class</th>\n",
       "      <th>soil description</th>\n",
       "      <th>grant description</th>\n",
       "      <th>...</th>\n",
       "      <th>failure code</th>\n",
       "      <th>failure description</th>\n",
       "      <th>job plan</th>\n",
       "      <th>job plan number</th>\n",
       "      <th>service location id</th>\n",
       "      <th>formatted address</th>\n",
       "      <th>city</th>\n",
       "      <th>post code</th>\n",
       "      <th>latitude</th>\n",
       "      <th>longitude</th>\n",
       "    </tr>\n",
       "  </thead>\n",
       "  <tbody>\n",
       "    <tr>\n",
       "      <th>0</th>\n",
       "      <td>2957806</td>\n",
       "      <td>7:30:00 PM</td>\n",
       "      <td>12/7/2009</td>\n",
       "      <td>Repair Burst Water Main</td>\n",
       "      <td>WRBRST</td>\n",
       "      <td>CAST IRON CEMENT LINED</td>\n",
       "      <td>100</td>\n",
       "      <td>SE</td>\n",
       "      <td>Low shrink/swell potential.</td>\n",
       "      <td>Silty Soil.</td>\n",
       "      <td>...</td>\n",
       "      <td>UNKN</td>\n",
       "      <td>UNKN</td>\n",
       "      <td>None</td>\n",
       "      <td>None</td>\n",
       "      <td>1142131</td>\n",
       "      <td>18 BECKETT STREET CHADSTONE 3148</td>\n",
       "      <td>CHADSTONE</td>\n",
       "      <td>3148</td>\n",
       "      <td>-37.88250410</td>\n",
       "      <td>145.09803510</td>\n",
       "    </tr>\n",
       "    <tr>\n",
       "      <th>1</th>\n",
       "      <td>2957969</td>\n",
       "      <td>10:49:00 PM</td>\n",
       "      <td>11/7/2003</td>\n",
       "      <td>Repair Burst Water Main</td>\n",
       "      <td>WRBRST</td>\n",
       "      <td>ASBESTOS CEMENT(INCL HARDYFLEX)</td>\n",
       "      <td>150</td>\n",
       "      <td>EX</td>\n",
       "      <td>Moderate shrink/swell potential.</td>\n",
       "      <td>Clay.</td>\n",
       "      <td>...</td>\n",
       "      <td>UNKN</td>\n",
       "      <td>UNKN</td>\n",
       "      <td>None</td>\n",
       "      <td>None</td>\n",
       "      <td>1690815</td>\n",
       "      <td>23 WARRINA STREET CHADSTONE 3148</td>\n",
       "      <td>CHADSTONE</td>\n",
       "      <td>3148</td>\n",
       "      <td>-37.87416700</td>\n",
       "      <td>145.10533000</td>\n",
       "    </tr>\n",
       "    <tr>\n",
       "      <th>2</th>\n",
       "      <td>2957969</td>\n",
       "      <td>6:30:00 PM</td>\n",
       "      <td>6/18/2004</td>\n",
       "      <td>Repair Burst Water Main</td>\n",
       "      <td>WRBRST</td>\n",
       "      <td>ASBESTOS CEMENT(INCL HARDYFLEX)</td>\n",
       "      <td>150</td>\n",
       "      <td>EX</td>\n",
       "      <td>Moderate shrink/swell potential.</td>\n",
       "      <td>Clay.</td>\n",
       "      <td>...</td>\n",
       "      <td>UNKN</td>\n",
       "      <td>UNKN</td>\n",
       "      <td>None</td>\n",
       "      <td>None</td>\n",
       "      <td>1276195</td>\n",
       "      <td>10 WARRINA STREET CHADSTONE 3148</td>\n",
       "      <td>CHADSTONE</td>\n",
       "      <td>3148</td>\n",
       "      <td>-37.87452744</td>\n",
       "      <td>145.10466380</td>\n",
       "    </tr>\n",
       "    <tr>\n",
       "      <th>3</th>\n",
       "      <td>2957975</td>\n",
       "      <td>1:41:00 PM</td>\n",
       "      <td>3/5/2001</td>\n",
       "      <td>Repair Burst Water Main</td>\n",
       "      <td>WRBRST</td>\n",
       "      <td>CAST IRON CEMENT LINED</td>\n",
       "      <td>100</td>\n",
       "      <td>SE</td>\n",
       "      <td>Low shrink/swell potential.</td>\n",
       "      <td>Silty Soil.</td>\n",
       "      <td>...</td>\n",
       "      <td>UNKN</td>\n",
       "      <td>UNKN</td>\n",
       "      <td>None</td>\n",
       "      <td>None</td>\n",
       "      <td>1279922</td>\n",
       "      <td>18 TUHANS ROAD MOUNT WAVERLEY 3149</td>\n",
       "      <td>MOUNT WAVERLEY</td>\n",
       "      <td>3149</td>\n",
       "      <td>-37.88474047</td>\n",
       "      <td>145.11267990</td>\n",
       "    </tr>\n",
       "    <tr>\n",
       "      <th>4</th>\n",
       "      <td>2957978</td>\n",
       "      <td>3:54:00 PM</td>\n",
       "      <td>2/3/2014</td>\n",
       "      <td>Repair Burst Water Main</td>\n",
       "      <td>WRBRST</td>\n",
       "      <td>COPPER</td>\n",
       "      <td>40</td>\n",
       "      <td>SE</td>\n",
       "      <td>Low shrink/swell potential.</td>\n",
       "      <td>Silty Soil.</td>\n",
       "      <td>...</td>\n",
       "      <td>UNKN</td>\n",
       "      <td>UNKN</td>\n",
       "      <td>None</td>\n",
       "      <td>None</td>\n",
       "      <td>1275823</td>\n",
       "      <td>None</td>\n",
       "      <td>None</td>\n",
       "      <td>None</td>\n",
       "      <td>None</td>\n",
       "      <td>None</td>\n",
       "    </tr>\n",
       "  </tbody>\n",
       "</table>\n",
       "<p>5 rows × 40 columns</p>\n",
       "</div>"
      ],
      "text/plain": [
       "  asset id   event time event date          class structure  \\\n",
       "0  2957806   7:30:00 PM  12/7/2009  Repair Burst Water Main   \n",
       "1  2957969  10:49:00 PM  11/7/2003  Repair Burst Water Main   \n",
       "2  2957969   6:30:00 PM  6/18/2004  Repair Burst Water Main   \n",
       "3  2957975   1:41:00 PM   3/5/2001  Repair Burst Water Main   \n",
       "4  2957978   3:54:00 PM   2/3/2014  Repair Burst Water Main   \n",
       "\n",
       "  class structure id                         material nominal size (mm)  \\\n",
       "0             WRBRST           CAST IRON CEMENT LINED               100   \n",
       "1             WRBRST  ASBESTOS CEMENT(INCL HARDYFLEX)               150   \n",
       "2             WRBRST  ASBESTOS CEMENT(INCL HARDYFLEX)               150   \n",
       "3             WRBRST           CAST IRON CEMENT LINED               100   \n",
       "4             WRBRST                           COPPER                40   \n",
       "\n",
       "  soil class                  soil description grant description  \\\n",
       "0         SE       Low shrink/swell potential.       Silty Soil.   \n",
       "1         EX  Moderate shrink/swell potential.             Clay.   \n",
       "2         EX  Moderate shrink/swell potential.             Clay.   \n",
       "3         SE       Low shrink/swell potential.       Silty Soil.   \n",
       "4         SE       Low shrink/swell potential.       Silty Soil.   \n",
       "\n",
       "       ...      failure code failure description job plan job plan number  \\\n",
       "0      ...              UNKN                UNKN     None            None   \n",
       "1      ...              UNKN                UNKN     None            None   \n",
       "2      ...              UNKN                UNKN     None            None   \n",
       "3      ...              UNKN                UNKN     None            None   \n",
       "4      ...              UNKN                UNKN     None            None   \n",
       "\n",
       "  service location id                   formatted address            city  \\\n",
       "0             1142131    18 BECKETT STREET CHADSTONE 3148       CHADSTONE   \n",
       "1             1690815    23 WARRINA STREET CHADSTONE 3148       CHADSTONE   \n",
       "2             1276195    10 WARRINA STREET CHADSTONE 3148       CHADSTONE   \n",
       "3             1279922  18 TUHANS ROAD MOUNT WAVERLEY 3149  MOUNT WAVERLEY   \n",
       "4             1275823                                None            None   \n",
       "\n",
       "  post code      latitude     longitude  \n",
       "0      3148  -37.88250410  145.09803510  \n",
       "1      3148  -37.87416700  145.10533000  \n",
       "2      3148  -37.87452744  145.10466380  \n",
       "3      3149  -37.88474047  145.11267990  \n",
       "4      None          None          None  \n",
       "\n",
       "[5 rows x 40 columns]"
      ]
     },
     "execution_count": 16,
     "metadata": {},
     "output_type": "execute_result"
    }
   ],
   "source": [
    "import pandas as pd\n",
    "import json\n",
    "import pypyodbc\n",
    "\n",
    "conn = pypyodbc.connect(\"DRIVER={SQL Server};\\\n",
    "                        SERVER=yvwchallenge.chqn5g6ohkqb.ap-southeast-2.rds.amazonaws.com;\\\n",
    "                        UID=admin;\\\n",
    "                        PWD=passwordpassword;\\\n",
    "                        DATABASE=yvwchallenge\")\n",
    "#data[\"title\"] = data.boilerplate.map(lambda x: json.loads(x).get(\"title\", \"\"))\n",
    "#data[\"body\"] = data.boilerplate.map(lambda x: json.loads(x).get(\"body\", \"\"))\n",
    "#data = pd.read_sql(data_sql)\n",
    "\n",
    "yvw_df = pd.read_sql('SELECT * FROM yvwdataframe', conn)\n",
    "yvw_df.head()"
   ]
  },
  {
   "cell_type": "code",
   "execution_count": 33,
   "metadata": {
    "collapsed": false,
    "scrolled": true
   },
   "outputs": [
    {
     "data": {
      "text/plain": [
       "failure description    82993\n",
       "dtype: int64"
      ]
     },
     "execution_count": 33,
     "metadata": {},
     "output_type": "execute_result"
    }
   ],
   "source": [
    "yvw_df[[\"failure description\"]].count()"
   ]
  },
  {
   "cell_type": "code",
   "execution_count": 32,
   "metadata": {
    "collapsed": false
   },
   "outputs": [
    {
     "name": "stdout",
     "output_type": "stream",
     "text": [
      "                                                    asset id\n",
      "description                                                 \n",
      "Fault,Water (Drinking  And Ndw) Works,Service,N...         1\n",
      "Fault,Water (Drinking And Ndw) Works,Hydrant-fi...         1\n",
      "Fault,Water (Drinking And Ndw) Works,Hydrant-fi...         1\n",
      "Fault,Water (Drinking And Ndw) Works,Hydrant-fi...         1\n",
      "Fault,Water (Drinking And Ndw) Works,Hydrant-fi...         2\n",
      "Fault,Water (Drinking And Ndw) Works,Hydrant-fi...         3\n",
      "Fault,Water (Drinking And Ndw) Works,Hydrant-fi...         2\n",
      "Fault,Water (Drinking And Ndw) Works,Hydrant-fi...         2\n",
      "Fault,Water (Drinking And Ndw) Works,Hydrant-fi...         1\n",
      "Fault,Water (Drinking And Ndw) Works,Hydrant-fi...         2\n",
      "Fault,Water (Drinking And Ndw) Works,Hydrant-fi...         2\n",
      "Fault,Water (Drinking And Ndw) Works,Hydrant-fi...         1\n",
      "Fault,Water (Drinking And Ndw) Works,Hydrant-fi...         1\n",
      "Fault,Water (Drinking And Ndw) Works,Hydrant-fi...         2\n",
      "Fault,Water (Drinking And Ndw) Works,Main,Drive...         2\n",
      "Fault,Water (Drinking And Ndw) Works,Main,Drive...         1\n",
      "Fault,Water (Drinking And Ndw) Works,Main,Drive...         4\n",
      "Fault,Water (Drinking And Ndw) Works,Main,Drive...         1\n",
      "Fault,Water (Drinking And Ndw) Works,Main,Drive...         1\n",
      "Fault,Water (Drinking And Ndw) Works,Main,Drive...         7\n",
      "Fault,Water (Drinking And Ndw) Works,Main,Drive...         2\n",
      "Fault,Water (Drinking And Ndw) Works,Main,Drive...         4\n",
      "Fault,Water (Drinking And Ndw) Works,Main,Drive...         1\n",
      "Fault,Water (Drinking And Ndw) Works,Main,Drive...         2\n",
      "Fault,Water (Drinking And Ndw) Works,Main,Drive...         1\n",
      "Fault,Water (Drinking And Ndw) Works,Main,Drive...         2\n",
      "Fault,Water (Drinking And Ndw) Works,Main,Drive...         1\n",
      "Fault,Water (Drinking And Ndw) Works,Main,Footp...         1\n",
      "Fault,Water (Drinking And Ndw) Works,Main,Footp...         1\n",
      "Fault,Water (Drinking And Ndw) Works,Main,Footp...         4\n",
      "...                                                      ...\n",
      "REP LEAK M/STEEL MNS<=300 0-2D                            61\n",
      "REP LEAK M/STEEL MNS<=300 2-3D                            10\n",
      "REP LEAK M/STEEL MNS>300 0-2D                             29\n",
      "REP LEAK M/STEEL MNS>300 2-3D                              6\n",
      "REP LEAK MAIN<150<2M DEEP                                 19\n",
      "REP LK 1.5DEEP NON MS <150DIA                           2323\n",
      "REP LK 1.5DEEP NON MS <225 DIA                           240\n",
      "REP LK 1.5DEEP NON MS <300 DIA                            92\n",
      "REP LK 1.5M DEEP NON MS 100DIA                         13882\n",
      "REP LK >1.5DEEP NON MS <150DIA                           245\n",
      "REP LK >1.5DEEP NON MS <225DIA                            55\n",
      "REP LK >1.5DEEP NON MS <300DIA                            56\n",
      "REP LK >1.5M DEEP NON MS <100D                           308\n",
      "REP LK MS <1.5 DEEP <=100 DIA                             92\n",
      "REP LK MS <1.5DEEP >100=150DIA                            37\n",
      "REP LK MS >1.5 DEEP >150=225DI                            11\n",
      "REP LK MS >1.5DEEP >225=300DIA                           228\n",
      "REPAIR BURST  WATER MAIN                                   2\n",
      "REPAIR BURST MAIN<150<2M DEEP                             43\n",
      "REPAIR BURST WATER  MAIN                                   1\n",
      "REPAIR BURST WATER MAIN                                13328\n",
      "REPAIR LEAKING WATER MAIN                              10949\n",
      "REPLACE BURST AC MAIN                                      2\n",
      "TRAFFIC MGT                                                1\n",
      "Traffic Mgt for Burst                                      1\n",
      "WATER LEAK/BURST-ROADWAY                                   2\n",
      "Water (Drinking And Ndw) Works,Water - Miscella...         1\n",
      "Water Repair Burst Main                                    1\n",
      "Water Repair Leaking Main                                  6\n",
      "Water Repair Service                                       4\n",
      "\n",
      "[238 rows x 1 columns]\n",
      "                   asset id\n",
      "nominal size (mm)          \n",
      "0                        11\n",
      "100                   53577\n",
      "110                       7\n",
      "1125                      1\n",
      "1150                      1\n",
      "125                    1006\n",
      "150                   13776\n",
      "1700                      1\n",
      "175                       4\n",
      "180                     125\n",
      "20                        2\n",
      "200                      93\n",
      "225                    1488\n",
      "25                       37\n",
      "250                      31\n",
      "280                       4\n",
      "300                     555\n",
      "32                       98\n",
      "355                       1\n",
      "375                      94\n",
      "40                     1637\n",
      "400                       1\n",
      "450                      71\n",
      "50                      205\n",
      "500                       1\n",
      "525                       4\n",
      "600                      72\n",
      "63                      631\n",
      "75                       22\n",
      "750                      54\n",
      "80                     1609\n",
      "800                      42\n",
      "825                       5\n",
      "900                      23\n",
      "82993\n"
     ]
    },
    {
     "data": {
      "text/plain": [
       "'\\nsb.factorplot(x = \"failure description\",\\n              y = \"class structure\",\\n              kind = \"bar\",\\n              data = data)\\nplt.show()'"
      ]
     },
     "execution_count": 32,
     "metadata": {},
     "output_type": "execute_result"
    }
   ],
   "source": [
    "%matplotlib inline\n",
    "import matplotlib.pyplot as plt\n",
    "import seaborn as sb\n",
    "\n",
    "\n",
    "print(yvw_df.groupby([\"description\"])[[\"asset id\"]].count())\n",
    "print(yvw_df.groupby([\"nominal size (mm)\"])[[\"asset id\"]].count())\n",
    "print(yvw_df[\"failure description\"].count())\n",
    "\n",
    "'''\n",
    "sb.factorplot(x = \"failure description\",\n",
    "              y = \"class structure\",\n",
    "              kind = \"bar\",\n",
    "              data = data)\n",
    "plt.show()'''"
   ]
  },
  {
   "cell_type": "markdown",
   "metadata": {},
   "source": [
    "### Exercise: 4. Does category in general affect evergreeness?\n",
    "Plot the rate of evergreen sites for all Alchemy categories."
   ]
  },
  {
   "cell_type": "code",
   "execution_count": 4,
   "metadata": {
    "collapsed": false
   },
   "outputs": [
    {
     "name": "stdout",
     "output_type": "stream",
     "text": [
      "                       label\n",
      "alchemy_category            \n",
      "?                   0.502135\n",
      "arts_entertainment  0.371945\n",
      "business            0.711364\n",
      "computer_internet   0.246622\n",
      "culture_politics    0.457726\n",
      "gaming              0.368421\n",
      "health              0.573123\n",
      "law_crime           0.419355\n",
      "recreation          0.684296\n",
      "religion            0.416667\n",
      "science_technology  0.456747\n",
      "sports              0.205263\n",
      "unknown             0.333333\n",
      "weather             0.000000\n"
     ]
    },
    {
     "data": {
      "image/png": "[encoded data removed]",
      "text/plain": [
       "<matplotlib.figure.Figure at 0xef47978>"
      ]
     },
     "metadata": {},
     "output_type": "display_data"
    }
   ],
   "source": [
    "print(data.groupby([\"alchemy_category\"])[[\"label\"]].mean())\n",
    "\n",
    "\n",
    "p = sb.factorplot(x = \"alchemy_category\",\n",
    "              y = \"label\",\n",
    "              kind = \"bar\",\n",
    "              data = data,\n",
    "              size = 8)\n",
    "p.set_xticklabels(rotation = 45, horizontalalignment = \"right\")\n",
    "plt.show()"
   ]
  },
  {
   "cell_type": "markdown",
   "metadata": {},
   "source": [
    "### Exercise: 5. How many articles are there per category?"
   ]
  },
  {
   "cell_type": "code",
   "execution_count": 5,
   "metadata": {
    "collapsed": false
   },
   "outputs": [
    {
     "name": "stdout",
     "output_type": "stream",
     "text": [
      "                    label\n",
      "alchemy_category         \n",
      "?                    2342\n",
      "arts_entertainment    941\n",
      "business              880\n",
      "computer_internet     296\n",
      "culture_politics      343\n",
      "gaming                 76\n",
      "health                506\n",
      "law_crime              31\n",
      "recreation           1229\n",
      "religion               72\n",
      "science_technology    289\n",
      "sports                380\n",
      "unknown                 6\n",
      "weather                 4\n"
     ]
    },
    {
     "data": {
      "image/png": "[encoded data removed]",
      "text/plain": [
       "<matplotlib.figure.Figure at 0xef2ad30>"
      ]
     },
     "metadata": {},
     "output_type": "display_data"
    }
   ],
   "source": [
    "print(data.groupby([\"alchemy_category\"])[[\"label\"]].count())\n",
    "\n",
    "## OR\n",
    "\n",
    "p = sb.factorplot(x = \"alchemy_category\",\n",
    "              y = \"label\",\n",
    "              kind = \"bar\",\n",
    "              data = data,\n",
    "              size = 8,\n",
    "              estimator = len)\n",
    "p.set_xticklabels(rotation = 45, horizontalalignment = \"right\")\n",
    "plt.show()"
   ]
  },
  {
   "cell_type": "markdown",
   "metadata": {},
   "source": [
    "#### Let's try extracting some of the text content\n",
    "### Exercise: 6. Create a feature for the title containing \"recipe\"\n",
    "Is the % of evegreen websites higher or lower on pages that have recipe in the the title?"
   ]
  },
  {
   "cell_type": "code",
   "execution_count": 6,
   "metadata": {
    "collapsed": false
   },
   "outputs": [],
   "source": [
    "# Option 1: Create a function to check for this\n",
    "\n",
    "def has_recipe(text_in):\n",
    "    try:\n",
    "        if \"recipe\" in str(text_in).lower():\n",
    "            return 1\n",
    "        else:\n",
    "            return 0\n",
    "    except: \n",
    "        return 0\n",
    "\n",
    "data[\"recipe\"] = data[\"title\"].map(has_recipe)\n",
    "\n",
    "# Option 2: lambda functions\n",
    "#data[\"recipe\"] = data[\"title\"].map(lambda t: 1 if \"recipe\" in str(t).lower() else 0)\n",
    "\n",
    "# Option 3: string functions\n",
    "data[\"recipe\"] = data[\"title\"].str.contains(\"recipe\")"
   ]
  },
  {
   "cell_type": "markdown",
   "metadata": {
    "collapsed": true
   },
   "source": [
    "###  Let's Explore Some Decision Trees"
   ]
  },
  {
   "cell_type": "markdown",
   "metadata": {},
   "source": [
    "### Demonstration: Build a decision tree model to predict the \"evergreeness\" of a given website"
   ]
  },
  {
   "cell_type": "code",
   "execution_count": 14,
   "metadata": {
    "collapsed": false,
    "scrolled": true
   },
   "outputs": [
    {
     "data": {
      "text/plain": [
       "DecisionTreeClassifier(class_weight=None, criterion='gini', max_depth=None,\n",
       "            max_features=None, max_leaf_nodes=None,\n",
       "            min_impurity_split=1e-07, min_samples_leaf=1,\n",
       "            min_samples_split=2, min_weight_fraction_leaf=0.0,\n",
       "            presort=False, random_state=None, splitter='best')"
      ]
     },
     "execution_count": 14,
     "metadata": {},
     "output_type": "execute_result"
    }
   ],
   "source": [
    "from sklearn.tree import DecisionTreeClassifier\n",
    "import pandas as pd\n",
    "import numpy as np\n",
    "\n",
    "X = data[[\"image_ratio\", \"html_ratio\", \"recipe\", \"label\"]].dropna()\n",
    "y = X[\"label\"]\n",
    "X.drop(\"label\", axis = 1, inplace = True)   \n",
    "\n",
    "# Fits the model\n",
    "model = DecisionTreeClassifier()\n",
    "model.fit(X, y)\n",
    "\n",
    "# Helper function to visualise Decision Trees (creates a file tree.png)\n",
    "from sklearn.tree import export_graphviz\n",
    "from os import system\n",
    "\n",
    "def build_tree_image(model):\n",
    "    dotfile = open(\"tree.dot\", \"w\")\n",
    "    export_graphviz(model,\n",
    "                    out_file = dotfile,\n",
    "                    feature_names = X.columns)\n",
    "    dotfile.close()\n",
    "    system(\"dot -Tpng tree.dot -o tree.png\")\n",
    "build_tree_image(model)\n",
    "\n",
    "model"
   ]
  },
  {
   "cell_type": "markdown",
   "metadata": {
    "collapsed": true
   },
   "source": [
    "## Decision Trees in scikit-learn"
   ]
  },
  {
   "cell_type": "markdown",
   "metadata": {},
   "source": [
    "### Exercise: Evaluate the decision tree using cross-validation; use AUC as the evaluation metric"
   ]
  },
  {
   "cell_type": "code",
   "execution_count": 8,
   "metadata": {
    "collapsed": false
   },
   "outputs": [
    {
     "name": "stderr",
     "output_type": "stream",
     "text": [
      "C:\\Program Files\\Anaconda2\\lib\\site-packages\\sklearn\\cross_validation.py:44: DeprecationWarning: This module was deprecated in version 0.18 in favor of the model_selection module into which all the refactored classes and functions are moved. Also note that the interface of the new CV iterators are different from that of this module. This module will be removed in 0.20.\n",
      "  \"This module will be removed in 0.20.\", DeprecationWarning)\n"
     ]
    },
    {
     "name": "stdout",
     "output_type": "stream",
     "text": [
      "CV AUC [ 0.53961988  0.50716374  0.55        0.47748538  0.51096491  0.5127193\n",
      "  0.54809942  0.52134503  0.59064327  0.52119883  0.57061404  0.53253968\n",
      "  0.56460051  0.546082    0.50286719  0.51844462  0.51330141  0.52344004\n",
      "  0.55651621  0.53950519], Average AUC 0.532357532954\n"
     ]
    }
   ],
   "source": [
    "from sklearn.cross_validation import cross_val_score\n",
    "\n",
    "# ... #\n",
    "\n",
    "scores = cross_val_score(model, X, y, scoring = \"roc_auc\", cv = 20)\n",
    "print(\"CV AUC {}, Average AUC {}\".format(scores, scores.mean()))"
   ]
  },
  {
   "cell_type": "markdown",
   "metadata": {
    "collapsed": true
   },
   "source": [
    "### Adjusting Decision Trees to Avoid Overfitting"
   ]
  },
  {
   "cell_type": "markdown",
   "metadata": {},
   "source": [
    "### Demonstration: Control for overfitting in the decision model by adjusting the maximum number of questions (max_depth) or the minimum number of records in each final node (min_samples_leaf)"
   ]
  },
  {
   "cell_type": "code",
   "execution_count": 9,
   "metadata": {
    "collapsed": false
   },
   "outputs": [],
   "source": [
    "model = DecisionTreeClassifier(max_depth = 2, min_samples_leaf = 5)\n",
    "model.fit(X, y)\n",
    "build_tree_image(model)"
   ]
  },
  {
   "cell_type": "markdown",
   "metadata": {},
   "source": [
    "### Demonstration: Build a random forest model to predict the evergreeness of a website"
   ]
  },
  {
   "cell_type": "code",
   "execution_count": 10,
   "metadata": {
    "collapsed": false
   },
   "outputs": [
    {
     "data": {
      "text/plain": [
       "RandomForestClassifier(bootstrap=True, class_weight=None, criterion='gini',\n",
       "            max_depth=None, max_features='auto', max_leaf_nodes=None,\n",
       "            min_impurity_split=1e-07, min_samples_leaf=1,\n",
       "            min_samples_split=2, min_weight_fraction_leaf=0.0,\n",
       "            n_estimators=20, n_jobs=5, oob_score=False, random_state=None,\n",
       "            verbose=0, warm_start=False)"
      ]
     },
     "execution_count": 10,
     "metadata": {},
     "output_type": "execute_result"
    }
   ],
   "source": [
    "from sklearn.ensemble import RandomForestClassifier\n",
    "\n",
    "model = RandomForestClassifier(n_estimators = 20, n_jobs=5)    \n",
    "model.fit(X, y)"
   ]
  },
  {
   "cell_type": "markdown",
   "metadata": {},
   "source": [
    "### Demonstration: Extracting importance of features"
   ]
  },
  {
   "cell_type": "code",
   "execution_count": 11,
   "metadata": {
    "collapsed": false
   },
   "outputs": [
    {
     "data": {
      "text/html": [
       "<div>\n",
       "<table border=\"1\" class=\"dataframe\">\n",
       "  <thead>\n",
       "    <tr style=\"text-align: right;\">\n",
       "      <th></th>\n",
       "      <th>Features</th>\n",
       "      <th>Importance Score</th>\n",
       "    </tr>\n",
       "  </thead>\n",
       "  <tbody>\n",
       "    <tr>\n",
       "      <th>1</th>\n",
       "      <td>html_ratio</td>\n",
       "      <td>0.526940</td>\n",
       "    </tr>\n",
       "    <tr>\n",
       "      <th>0</th>\n",
       "      <td>image_ratio</td>\n",
       "      <td>0.443073</td>\n",
       "    </tr>\n",
       "    <tr>\n",
       "      <th>2</th>\n",
       "      <td>recipe</td>\n",
       "      <td>0.029987</td>\n",
       "    </tr>\n",
       "  </tbody>\n",
       "</table>\n",
       "</div>"
      ],
      "text/plain": [
       "      Features  Importance Score\n",
       "1   html_ratio          0.526940\n",
       "0  image_ratio          0.443073\n",
       "2       recipe          0.029987"
      ]
     },
     "execution_count": 11,
     "metadata": {},
     "output_type": "execute_result"
    }
   ],
   "source": [
    "features = X.columns\n",
    "feature_importances = model.feature_importances_\n",
    "\n",
    "features_df = pd.DataFrame({\"Features\": features, \"Importance Score\": feature_importances})\n",
    "features_df.sort_values(\"Importance Score\", inplace = True, ascending = False)\n",
    "\n",
    "features_df.head()"
   ]
  },
  {
   "cell_type": "markdown",
   "metadata": {},
   "source": [
    "### Exercise: Evaluate the Random Forest model using cross-validation; increase the number of estimators and view how that improves predictive performance"
   ]
  },
  {
   "cell_type": "code",
   "execution_count": 12,
   "metadata": {
    "collapsed": false
   },
   "outputs": [
    {
     "name": "stdout",
     "output_type": "stream",
     "text": [
      "CV AUC [ 0.56395813  0.58363538  0.58026632], Average AUC 0.575953274472\n",
      "n trees: 1, CV AUC [ 0.52902583  0.52953124  0.54953695], Average AUC 0.536031337811\n",
      "n trees: 11, CV AUC [ 0.56721976  0.58631118  0.57900921], Average AUC 0.57751338355\n",
      "n trees: 21, CV AUC [ 0.56732575  0.58297312  0.58560065], Average AUC 0.578633174054\n",
      "n trees: 31, CV AUC [ 0.56296425  0.58566412  0.58295647], Average AUC 0.577194945891\n",
      "n trees: 41, CV AUC [ 0.56915534  0.58945624  0.58717095], Average AUC 0.581927509366\n",
      "n trees: 51, CV AUC [ 0.5681717   0.58933528  0.58193914], Average AUC 0.579815377078\n",
      "n trees: 61, CV AUC [ 0.57186853  0.58742948  0.58166067], Average AUC 0.580319559007\n",
      "n trees: 71, CV AUC [ 0.56648772  0.59126323  0.58452247], Average AUC 0.580757808928\n",
      "n trees: 81, CV AUC [ 0.57193787  0.59045028  0.58006821], Average AUC 0.580818786634\n",
      "n trees: 91, CV AUC [ 0.57154362  0.58951308  0.58147546], Average AUC 0.580844052597\n"
     ]
    }
   ],
   "source": [
    "from sklearn.cross_validation import cross_val_score\n",
    "\n",
    "scores = cross_val_score(model, X, y, scoring = \"roc_auc\")\n",
    "print(\"CV AUC {}, Average AUC {}\".format(scores, scores.mean()))\n",
    "\n",
    "for n_trees in range(1, 100, 10):\n",
    "    model = RandomForestClassifier(n_estimators = n_trees)\n",
    "    scores = cross_val_score(model, X, y, scoring = \"roc_auc\")\n",
    "    print(\"n trees: {}, CV AUC {}, Average AUC {}\".format(n_trees, scores, scores.mean()))"
   ]
  },
  {
   "cell_type": "markdown",
   "metadata": {},
   "source": [
    "## Independent Practice: Evaluate Random Forest Using Cross-Validation"
   ]
  },
  {
   "cell_type": "markdown",
   "metadata": {},
   "source": [
    "1. Continue adding input variables to the model that you think may be relevant\n",
    "2. For each feature:\n",
    "  - Evaluate the model for improved predictive performance using cross-validation\n",
    "  - Evaluate the **importance** of the feature\n",
    "3. **Bonus**: Just like the \"recipe\" feature, add in similar text features and evaluate their performance"
   ]
  },
  {
   "cell_type": "code",
   "execution_count": 13,
   "metadata": {
    "collapsed": false
   },
   "outputs": [
    {
     "name": "stdout",
     "output_type": "stream",
     "text": [
      "CV AUC [ 0.56591187  0.58973779  0.5851836 ], Average AUC 0.58027775402\n",
      "CV AUC [ 0.56507583  0.59435641  0.59243318], Average AUC 0.583955138081\n"
     ]
    },
    {
     "data": {
      "text/html": [
       "<div>\n",
       "<table border=\"1\" class=\"dataframe\">\n",
       "  <thead>\n",
       "    <tr style=\"text-align: right;\">\n",
       "      <th></th>\n",
       "      <th>Features</th>\n",
       "      <th>Importance Score</th>\n",
       "    </tr>\n",
       "  </thead>\n",
       "  <tbody>\n",
       "    <tr>\n",
       "      <th>1</th>\n",
       "      <td>html_ratio</td>\n",
       "      <td>0.523437</td>\n",
       "    </tr>\n",
       "    <tr>\n",
       "      <th>0</th>\n",
       "      <td>image_ratio</td>\n",
       "      <td>0.440623</td>\n",
       "    </tr>\n",
       "    <tr>\n",
       "      <th>2</th>\n",
       "      <td>recipe</td>\n",
       "      <td>0.029777</td>\n",
       "    </tr>\n",
       "    <tr>\n",
       "      <th>3</th>\n",
       "      <td>PhotoInTitle</td>\n",
       "      <td>0.006163</td>\n",
       "    </tr>\n",
       "  </tbody>\n",
       "</table>\n",
       "</div>"
      ],
      "text/plain": [
       "       Features  Importance Score\n",
       "1    html_ratio          0.523437\n",
       "0   image_ratio          0.440623\n",
       "2        recipe          0.029777\n",
       "3  PhotoInTitle          0.006163"
      ]
     },
     "execution_count": 13,
     "metadata": {},
     "output_type": "execute_result"
    }
   ],
   "source": [
    "## 1. Building a model with more relevant features\n",
    "\n",
    "model = RandomForestClassifier(n_estimators = 50)\n",
    "\n",
    "# Continue to add features to X\n",
    "#     Build dummy features, include quantitative features, or add text features\n",
    "X = data[[\"image_ratio\", \"html_ratio\", \"recipe\", \"label\"]].dropna()\n",
    "y = X[\"label\"]\n",
    "X.drop(\"label\", axis = 1, inplace = True)\n",
    "\n",
    "## 2a. Evaluate predictive performance for the given feature set\n",
    "scores = cross_val_score(model, X, y, scoring = \"roc_auc\")\n",
    "print(\"CV AUC {}, Average AUC {}\".format(scores, scores.mean()))\n",
    "\n",
    "# 3 (BONUS): Adding in text features\n",
    "\n",
    "# Check for keywords in the title\n",
    "data[\"PhotoInTitle\"] = data[\"title\"].fillna(\"\").str.lower().str.contains(\"photo\").astype(int)\n",
    "X = data[[\"image_ratio\", \"html_ratio\", \"recipe\", \"PhotoInTitle\", \"label\"]].dropna()\n",
    "X.drop(\"label\", axis = 1, inplace = True)\n",
    "\n",
    "scores = cross_val_score(model, X, y, scoring = \"roc_auc\")\n",
    "print(\"CV AUC {}, Average AUC {}\".format(scores, scores.mean()))\n",
    "\n",
    "## 2b. Evaluating feature importances\n",
    "\n",
    "# Fit a model on the whole dataset\n",
    "model.fit(X, y)\n",
    "\n",
    "# Get columns and their scores\n",
    "features = X.columns\n",
    "feature_importances = model.feature_importances_\n",
    "features_df = pd.DataFrame({\"Features\": features, \"Importance Score\": feature_importances})\n",
    "features_df.sort_values(\"Importance Score\", inplace = True, ascending = False)\n",
    "\n",
    "features_df.head()"
   ]
  }
 ],
 "metadata": {
  "anaconda-cloud": {},
  "kernelspec": {
   "display_name": "Python [conda root]",
   "language": "python",
   "name": "conda-root-py"
  },
  "language_info": {
   "codemirror_mode": {
    "name": "ipython",
    "version": 2
   },
   "file_extension": ".py",
   "mimetype": "text/x-python",
   "name": "python",
   "nbconvert_exporter": "python",
   "pygments_lexer": "ipython2",
   "version": "2.7.12"
  }
 },
 "nbformat": 4,
 "nbformat_minor": 0
}
